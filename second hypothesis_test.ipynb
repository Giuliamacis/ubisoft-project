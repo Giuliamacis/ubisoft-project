{
 "cells": [
  {
   "cell_type": "code",
   "execution_count": 100,
   "id": "c87e2edf-cb35-4d9f-8b5f-be249566f84a",
   "metadata": {},
   "outputs": [],
   "source": [
    "\n",
    "import pandas as pd\n",
    "from scipy.stats import pearsonr\n",
    "from sklearn.linear_model import LinearRegression\n",
    "import numpy as np\n",
    "import warnings\n",
    "\n",
    "# Suppress FutureWarnings\n",
    "warnings.simplefilter(action='ignore', category=FutureWarning)"
   ]
  },
  {
   "cell_type": "code",
   "execution_count": 101,
   "id": "9179a6dc-c4e8-4f70-ab9f-060673c741bd",
   "metadata": {},
   "outputs": [
    {
     "name": "stdout",
     "output_type": "stream",
     "text": [
      "                                         video_title  sentiment_of_comments  \\\n",
      "0              The Last of Us Part II - Angry Review                     -1   \n",
      "1                Is Kingdom Come Deliverance Racist?                     -1   \n",
      "2                                     Concord Review                      0   \n",
      "3  So far I do not recommend: Battlefield 2042 (R...                     -1   \n",
      "4                                  Balan Wonderworld                     -1   \n",
      "\n",
      "   youtuber_sentiment                                              Notes  \n",
      "0                  -1  this game had so much more to live up to when ...  \n",
      "1                  -1                                    fuking terrible  \n",
      "2                   0                                        6 out of 10  \n",
      "3                  -1        need a lot of work in design not reccomend   \n",
      "4                  -1                                   this game sucks   \n"
     ]
    }
   ],
   "source": [
    "\n",
    "\n",
    "# Load and preprocess the data\n",
    "df = pd.read_csv('Desktop/video_ubisoft/youtuber_impact.csv', encoding='utf-8', sep=';')\n",
    "\n",
    "# Convert the columns to categorical sentiment values\n",
    "df['sentiment_of_comments'] = df['sentiment_of_comments'].str.strip().str.lower().replace({'negative': -1, 'neutral': 0, 'positive': 1}).infer_objects(copy=False)\n",
    "df['youtuber_sentiment'] = df['youtuber_sentiment'].str.strip().str.lower().replace({'negative': -1, 'neutral': 0, 'positive': 1}).infer_objects(copy=False)\n",
    "\n",
    "# Display the first few rows to verify the transformation\n",
    "print(df.head())\n",
    "\n"
   ]
  },
  {
   "cell_type": "code",
   "execution_count": 102,
   "id": "428ffa1b-0589-4f25-ab0d-9d638920f574",
   "metadata": {},
   "outputs": [
    {
     "name": "stdout",
     "output_type": "stream",
     "text": [
      "Pearson correlation: 0.9513381762654806\n",
      "P-value: 1.2172399897818896e-10\n"
     ]
    }
   ],
   "source": [
    "# Pearson Correlation\n",
    "correlation, p_value = pearsonr(df['youtuber_sentiment'], df['sentiment_of_comments'])\n",
    "print(f\"Pearson correlation: {correlation}\")\n",
    "print(f\"P-value: {p_value}\")\n"
   ]
  },
  {
   "cell_type": "markdown",
   "id": "7d3b6e61-9dae-4baa-8674-6da7ac914c5a",
   "metadata": {},
   "source": [
    "**Pearson Correlation and Linear Regression**\n",
    "Pearson Correlation: The correlation coefficient is 0.951, with a p-value of 1.22e-10, indicating a very strong and statistically significant positive correlation between YouTuber sentiment and audience sentiment."
   ]
  },
  {
   "cell_type": "code",
   "execution_count": 104,
   "id": "9ed7e0cf-0114-4aef-ad61-50cf3d82e335",
   "metadata": {},
   "outputs": [
    {
     "name": "stdout",
     "output_type": "stream",
     "text": [
      "Linear Regression Coefficient: 1.0058997050147493\n",
      "Linear Regression Intercept: 0.10029498525073748\n",
      "R-squared: 0.9050443256201306\n"
     ]
    }
   ],
   "source": [
    "# Linear Regression Model\n",
    "X = np.array(df['youtuber_sentiment']).reshape(-1, 1)\n",
    "y = np.array(df['sentiment_of_comments'])\n",
    "linear_model = LinearRegression()\n",
    "linear_model.fit(X, y)\n",
    "print(f\"Linear Regression Coefficient: {linear_model.coef_[0]}\")\n",
    "print(f\"Linear Regression Intercept: {linear_model.intercept_}\")\n",
    "print(f\"R-squared: {linear_model.score(X, y)}\")"
   ]
  },
  {
   "cell_type": "markdown",
   "id": "726c3f3d-fc08-4528-98bf-1c0082d921b6",
   "metadata": {},
   "source": [
    "**Linear Regression:**\n",
    "Coefficient: 1.0059, meaning that a unit increase in YouTuber sentiment is associated with a nearly equivalent increase in audience sentiment.\n",
    "Intercept: 0.1003, a small offset that doesn’t substantially impact the relationship.\n",
    "R-squared: 0.905, meaning 90.5% of the variance in audience sentiment can be explained by YouTuber sentiment, indicating an excellent fit.\n",
    "Our analysis suggests a strong linear relationship between YouTuber sentiment and audience sentiment, making it an effective initial model."
   ]
  },
  {
   "cell_type": "code",
   "execution_count": 106,
   "id": "ad33e3c1-e8f2-41c1-a80a-d296bf5d6d62",
   "metadata": {},
   "outputs": [
    {
     "name": "stdout",
     "output_type": "stream",
     "text": [
      "Multinomial Logistic Regression Coefficients: [[-1.47435582]\n",
      " [ 0.10821212]\n",
      " [ 1.3661437 ]]\n",
      "Multinomial Logistic Regression Intercept: [ 1.72467683 -1.1846857  -0.53999113]\n",
      "Multinomial Logistic Regression Accuracy: 0.95\n"
     ]
    }
   ],
   "source": [
    "# Additional code for Multinomial Logistic Regression and Ordinal Logistic Regression\n",
    "\n",
    "# Multinomial Logistic Regression Model\n",
    "from sklearn.linear_model import LogisticRegression\n",
    "# Adjust encoding for Logistic Regression (encode as 0 = negative, 1 = neutral, 2 = positive)\n",
    "df['logistic_sentiment_of_comments'] = df['sentiment_of_comments'].replace({-1: 0, 0: 1, 1: 2})\n",
    "df['logistic_youtuber_sentiment'] = df['youtuber_sentiment'].replace({-1: 0, 0: 1, 1: 2})\n",
    "X_logistic = df[['logistic_youtuber_sentiment']]\n",
    "y_logistic = df['logistic_sentiment_of_comments']\n",
    "logistic_model = LogisticRegression(multi_class='multinomial', solver='lbfgs')\n",
    "logistic_model.fit(X_logistic, y_logistic)\n",
    "print(\"Multinomial Logistic Regression Coefficients:\", logistic_model.coef_)\n",
    "print(\"Multinomial Logistic Regression Intercept:\", logistic_model.intercept_)\n",
    "print(\"Multinomial Logistic Regression Accuracy:\", logistic_model.score(X_logistic, y_logistic))\n",
    "\n"
   ]
  },
  {
   "cell_type": "markdown",
   "id": "e29ea58a-83f7-413a-b10a-548b461d9503",
   "metadata": {},
   "source": [
    "**Multinomial Logistic Regression**\n",
    "\n",
    "The coefficients vary for each category (negative, neutral, positive), representing the effect of YouTuber sentiment on the probability of each sentiment category.\n",
    "Intercepts: These values adjust the probability distribution across categories.\n",
    "Accuracy: 95%, showing a high accuracy in predicting the sentiment category in comments based on YouTuber sentiment.\n",
    "Our Multinomial logistic regression is suitable for categorical analysis, capturing the probability of each discrete sentiment category without assuming an ordered relationship."
   ]
  },
  {
   "cell_type": "code",
   "execution_count": 108,
   "id": "4ea7b40f-b255-4b89-8dcd-60328c516088",
   "metadata": {},
   "outputs": [
    {
     "name": "stdout",
     "output_type": "stream",
     "text": [
      "Ordinal Logistic Regression Coefficients: [2.63752154]\n",
      "Classification Report for Ordinal Logistic Regression:\n",
      "               precision    recall  f1-score   support\n",
      "\n",
      "    Negative       1.00      1.00      1.00         9\n",
      "     Neutral       0.00      0.00      0.00         1\n",
      "    Positive       0.91      1.00      0.95        10\n",
      "\n",
      "    accuracy                           0.95        20\n",
      "   macro avg       0.64      0.67      0.65        20\n",
      "weighted avg       0.90      0.95      0.93        20\n",
      "\n"
     ]
    }
   ],
   "source": [
    "# Ordinal Logistic Regression Model\n",
    "# Note: Install mord library if not already installed\n",
    "# !pip install mord\n",
    "from mord import LogisticAT\n",
    "X_ordinal = df[['logistic_youtuber_sentiment']].values\n",
    "y_ordinal = df['logistic_sentiment_of_comments'].values\n",
    "ordinal_model = LogisticAT()\n",
    "ordinal_model.fit(X_ordinal, y_ordinal)\n",
    "print(\"Ordinal Logistic Regression Coefficients:\", ordinal_model.coef_)\n",
    "\n",
    "# Predictions and Classification Report for Ordinal Logistic Regression\n",
    "from sklearn.metrics import classification_report\n",
    "y_ordinal_pred = ordinal_model.predict(X_ordinal)\n",
    "print(\"Classification Report for Ordinal Logistic Regression:\\n\", \n",
    "      classification_report(y_ordinal, y_ordinal_pred, target_names=['Negative', 'Neutral', 'Positive'], zero_division=0))"
   ]
  },
  {
   "cell_type": "markdown",
   "id": "9cb3c8b2-c68d-490d-983b-2aefb060ec07",
   "metadata": {},
   "source": [
    "**Ordinal Logistic Regression**\n",
    "\n",
    "Coefficient: 2.6375, indicating a positive association between YouTuber sentiment and the likelihood of a more positive audience sentiment.\n",
    "Classification Report:\n",
    "Accuracy: 95%, similar to the multinomial logistic regression model.\n",
    "Precision and Recall: High precision and recall for \"Negative\" and \"Positive\" categories but zero for \"Neutral,\" likely due to an imbalance (only one neutral instance in the dataset).\n",
    "Our Ordinal logistic regression is appropriate when treating sentiment as an ordered variable (negative < neutral < positive), making it suitable if we assume that audience sentiment follows a progression from negative to positive."
   ]
  },
  {
   "cell_type": "markdown",
   "id": "d38b71c5-9d78-4a13-b0f2-713eaf10f511",
   "metadata": {},
   "source": [
    "# **Which Analysis is Most Relevant and Why?**\n",
    "The Pearson correlation and linear regression give a straightforward interpretation of the linear relationship between YouTuber and audience sentiment. However, ordinal logistic regression is arguably the most relevant model here, as it treats sentiment as an ordered variable, which is often more accurate for sentiment analysis. This model leverages the ordinal nature of the data, capturing the likelihood that an increase in YouTuber sentiment results in an audience sentiment that is also more positive. The high accuracy of both logistic models further supports the robustness of this approach."
   ]
  },
  {
   "cell_type": "markdown",
   "id": "36fa1852-e218-48c9-ab06-a6b556473936",
   "metadata": {},
   "source": [
    "# **Why We Added Additional Analyses (Logistic Regression and Ordinal Regression)**\n",
    "While the Pearson correlation and linear regression provided strong evidence of a linear relationship between YouTuber sentiment and audience sentiment, these models treated sentiment as a continuous variable. To fully capture the nature of sentiment data, it’s essential to consider it as categorical (positive, neutral, negative) rather than continuous. Logistic regression (multinomial or ordinal) models the probability of each discrete sentiment category in the audience based on the YouTuber’s sentiment, allowing for a more nuanced analysis of the relationship."
   ]
  },
  {
   "cell_type": "markdown",
   "id": "bda2b6b1-3ab7-4fec-8aaf-07203ca5a907",
   "metadata": {},
   "source": [
    "# **CONCLUSION**"
   ]
  },
  {
   "cell_type": "markdown",
   "id": "08a3c1d7-dbf0-429a-9125-190358074f62",
   "metadata": {},
   "source": [
    "The results from all models-correlation and linear regression, multinomial logistic regression, and ordinal logistic regression—consistently suggest a strong relationship between YouTuber sentiment and audience sentiment. **This alignment indicates that the sentiment expressed by the YouTuber is a major explanatory factor for the sentiment seen in the comments, supporting the hypothesis that the YouTuber’s opinion significantly shapes or influences audience reactions.**"
   ]
  }
 ],
 "metadata": {
  "kernelspec": {
   "display_name": "Python 3 (ipykernel)",
   "language": "python",
   "name": "python3"
  },
  "language_info": {
   "codemirror_mode": {
    "name": "ipython",
    "version": 3
   },
   "file_extension": ".py",
   "mimetype": "text/x-python",
   "name": "python",
   "nbconvert_exporter": "python",
   "pygments_lexer": "ipython3",
   "version": "3.12.4"
  }
 },
 "nbformat": 4,
 "nbformat_minor": 5
}
