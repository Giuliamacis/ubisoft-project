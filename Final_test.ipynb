{
 "cells": [
  {
   "cell_type": "code",
   "execution_count": 23,
   "id": "2bc30660-c963-404d-ae13-41a85161a062",
   "metadata": {},
   "outputs": [],
   "source": [
    "import pandas as pd\n",
    "import matplotlib.pyplot as plt\n",
    "import numpy as np"
   ]
  },
  {
   "cell_type": "code",
   "execution_count": 11,
   "id": "01d6193c-0571-4d08-a22b-f3d5488fa85f",
   "metadata": {},
   "outputs": [
    {
     "data": {
      "text/html": [
       "<div>\n",
       "<style scoped>\n",
       "    .dataframe tbody tr th:only-of-type {\n",
       "        vertical-align: middle;\n",
       "    }\n",
       "\n",
       "    .dataframe tbody tr th {\n",
       "        vertical-align: top;\n",
       "    }\n",
       "\n",
       "    .dataframe thead th {\n",
       "        text-align: right;\n",
       "    }\n",
       "</style>\n",
       "<table border=\"1\" class=\"dataframe\">\n",
       "  <thead>\n",
       "    <tr style=\"text-align: right;\">\n",
       "      <th></th>\n",
       "      <th>title</th>\n",
       "      <th>num_topics</th>\n",
       "    </tr>\n",
       "  </thead>\n",
       "  <tbody>\n",
       "    <tr>\n",
       "      <th>0</th>\n",
       "      <td>GTA 5 - Review</td>\n",
       "      <td>3</td>\n",
       "    </tr>\n",
       "    <tr>\n",
       "      <th>1</th>\n",
       "      <td>Space Marine 2 - Before You Buy</td>\n",
       "      <td>5</td>\n",
       "    </tr>\n",
       "    <tr>\n",
       "      <th>2</th>\n",
       "      <td>Alan Wake 2 - Before You Buy</td>\n",
       "      <td>4</td>\n",
       "    </tr>\n",
       "    <tr>\n",
       "      <th>3</th>\n",
       "      <td>PlayerUnknown's Battlegrounds (PS4) - Before Y...</td>\n",
       "      <td>4</td>\n",
       "    </tr>\n",
       "    <tr>\n",
       "      <th>4</th>\n",
       "      <td>Apex Legends - Before You Buy</td>\n",
       "      <td>2</td>\n",
       "    </tr>\n",
       "    <tr>\n",
       "      <th>5</th>\n",
       "      <td>Uncharted 4: A Thief's End Review</td>\n",
       "      <td>4</td>\n",
       "    </tr>\n",
       "    <tr>\n",
       "      <th>6</th>\n",
       "      <td>Super Mario Bros. Wonder Review</td>\n",
       "      <td>4</td>\n",
       "    </tr>\n",
       "    <tr>\n",
       "      <th>7</th>\n",
       "      <td>Final Fantasy 7 Rebirth Review</td>\n",
       "      <td>3</td>\n",
       "    </tr>\n",
       "    <tr>\n",
       "      <th>8</th>\n",
       "      <td>Red Dead Redemption 2 Review</td>\n",
       "      <td>6</td>\n",
       "    </tr>\n",
       "    <tr>\n",
       "      <th>9</th>\n",
       "      <td>The Legend of Zelda: Tears of the Kingdom Review</td>\n",
       "      <td>6</td>\n",
       "    </tr>\n",
       "  </tbody>\n",
       "</table>\n",
       "</div>"
      ],
      "text/plain": [
       "                                               title  num_topics\n",
       "0                                     GTA 5 - Review           3\n",
       "1                    Space Marine 2 - Before You Buy           5\n",
       "2                       Alan Wake 2 - Before You Buy           4\n",
       "3  PlayerUnknown's Battlegrounds (PS4) - Before Y...           4\n",
       "4                      Apex Legends - Before You Buy           2\n",
       "5                  Uncharted 4: A Thief's End Review           4\n",
       "6                    Super Mario Bros. Wonder Review           4\n",
       "7                     Final Fantasy 7 Rebirth Review           3\n",
       "8                       Red Dead Redemption 2 Review           6\n",
       "9   The Legend of Zelda: Tears of the Kingdom Review           6"
      ]
     },
     "execution_count": 11,
     "metadata": {},
     "output_type": "execute_result"
    }
   ],
   "source": [
    "df_good_topics = pd.read_csv(\"C:/Users/giulia macis/Desktop/UBISOFT/df_good_topics.csv\")\n",
    "df_good_topics"
   ]
  },
  {
   "cell_type": "code",
   "execution_count": 13,
   "id": "3687ef63-3a57-40cd-9a8d-257f89b423db",
   "metadata": {},
   "outputs": [
    {
     "data": {
      "text/html": [
       "<div>\n",
       "<style scoped>\n",
       "    .dataframe tbody tr th:only-of-type {\n",
       "        vertical-align: middle;\n",
       "    }\n",
       "\n",
       "    .dataframe tbody tr th {\n",
       "        vertical-align: top;\n",
       "    }\n",
       "\n",
       "    .dataframe thead th {\n",
       "        text-align: right;\n",
       "    }\n",
       "</style>\n",
       "<table border=\"1\" class=\"dataframe\">\n",
       "  <thead>\n",
       "    <tr style=\"text-align: right;\">\n",
       "      <th></th>\n",
       "      <th>title</th>\n",
       "      <th>num_topics</th>\n",
       "    </tr>\n",
       "  </thead>\n",
       "  <tbody>\n",
       "    <tr>\n",
       "      <th>0</th>\n",
       "      <td>The Last of Us Part II - Angry Review</td>\n",
       "      <td>1</td>\n",
       "    </tr>\n",
       "    <tr>\n",
       "      <th>1</th>\n",
       "      <td>Fallout 76 Angry Review</td>\n",
       "      <td>1</td>\n",
       "    </tr>\n",
       "    <tr>\n",
       "      <th>2</th>\n",
       "      <td>Is Kingdom Come Deliverance Racist?</td>\n",
       "      <td>1</td>\n",
       "    </tr>\n",
       "    <tr>\n",
       "      <th>3</th>\n",
       "      <td>So far, I do not recommend: Battlefield 2042 (...</td>\n",
       "      <td>4</td>\n",
       "    </tr>\n",
       "    <tr>\n",
       "      <th>4</th>\n",
       "      <td>Call of Duty: Modern Warfare 3 Single-Player C...</td>\n",
       "      <td>1</td>\n",
       "    </tr>\n",
       "    <tr>\n",
       "      <th>5</th>\n",
       "      <td>Suicide Squad: Kill the Justice League Review</td>\n",
       "      <td>3</td>\n",
       "    </tr>\n",
       "    <tr>\n",
       "      <th>6</th>\n",
       "      <td>Atomic Heart is 2023's First Major Disappointm...</td>\n",
       "      <td>2</td>\n",
       "    </tr>\n",
       "    <tr>\n",
       "      <th>7</th>\n",
       "      <td>Concord Review</td>\n",
       "      <td>1</td>\n",
       "    </tr>\n",
       "    <tr>\n",
       "      <th>8</th>\n",
       "      <td>I talked to Ubisoft Devs, it's far worse than ...</td>\n",
       "      <td>1</td>\n",
       "    </tr>\n",
       "    <tr>\n",
       "      <th>9</th>\n",
       "      <td>Balan Wonderworld</td>\n",
       "      <td>2</td>\n",
       "    </tr>\n",
       "  </tbody>\n",
       "</table>\n",
       "</div>"
      ],
      "text/plain": [
       "                                               title  num_topics\n",
       "0              The Last of Us Part II - Angry Review           1\n",
       "1                            Fallout 76 Angry Review           1\n",
       "2                Is Kingdom Come Deliverance Racist?           1\n",
       "3  So far, I do not recommend: Battlefield 2042 (...           4\n",
       "4  Call of Duty: Modern Warfare 3 Single-Player C...           1\n",
       "5      Suicide Squad: Kill the Justice League Review           3\n",
       "6  Atomic Heart is 2023's First Major Disappointm...           2\n",
       "7                                     Concord Review           1\n",
       "8  I talked to Ubisoft Devs, it's far worse than ...           1\n",
       "9                                  Balan Wonderworld           2"
      ]
     },
     "execution_count": 13,
     "metadata": {},
     "output_type": "execute_result"
    }
   ],
   "source": [
    "df_bad_topics = pd.read_csv(\"C:/Users/giulia macis/Desktop/UBISOFT/df_bad_topics.csv\")\n",
    "df_bad_topics"
   ]
  },
  {
   "cell_type": "code",
   "execution_count": 17,
   "id": "9c67c30c-e655-487d-ae30-76eb7fa472a7",
   "metadata": {},
   "outputs": [
    {
     "name": "stdout",
     "output_type": "stream",
     "text": [
      "Good videogames - Statistics=0.924, p=0.392\n",
      "Bad videogames  - Statistics=0.730, p=0.002\n",
      " Good videogames Dataset  appears to be normally distributed\n",
      "Bad videogames Dataset does not appear to be normally distributed\n"
     ]
    }
   ],
   "source": [
    "from scipy.stats import shapiro\n",
    "\n",
    "# Perform the Shapiro-Wilk test\n",
    "stat1, p1 = shapiro(df_good_topics['num_topics'])\n",
    "stat2, p2 = shapiro(df_bad_topics['num_topics'])\n",
    "\n",
    "# Display results\n",
    "print(\"Good videogames - Statistics=%.3f, p=%.3f\" % (stat1, p1))\n",
    "print(\"Bad videogames  - Statistics=%.3f, p=%.3f\" % (stat2, p2))\n",
    "\n",
    "# Interpretation\n",
    "if p1 > 0.05:\n",
    "    print(\"Good videogames Dataset  appears to be normally distributed\")\n",
    "else:\n",
    "    print(\"Good videogames Dataset  does not appear to be normally distributed\")\n",
    "\n",
    "if p2 > 0.05:\n",
    "    print(\"Bad videogames Dataset appears to be normally distributed\")\n",
    "else:\n",
    "    print(\"Bad videogames Dataset does not appear to be normally distributed\")"
   ]
  },
  {
   "cell_type": "code",
   "execution_count": 25,
   "id": "84751558-3978-4d15-822f-21352064beb9",
   "metadata": {},
   "outputs": [
    {
     "data": {
      "image/png": "[encoded data removed]",
      "text/plain": [
       "<Figure size 1200x500 with 2 Axes>"
      ]
     },
     "metadata": {},
     "output_type": "display_data"
    }
   ],
   "source": [
    "# Plotting the distributions\n",
    "plt.figure(figsize=(12, 5))\n",
    "\n",
    "# Dataset 1 distribution\n",
    "plt.subplot(1, 2, 1)\n",
    "plt.hist(df_good_topics['num_topics'], bins=np.arange(0.5, max(df_good_topics['num_topics'])+1.5, 1), edgecolor='black')\n",
    "plt.title(\"Distribution of num_topics in Dataset 1\")\n",
    "plt.xlabel(\"num_topics\")\n",
    "plt.ylabel(\"Frequency\")\n",
    "\n",
    "# Dataset 2 distribution\n",
    "plt.subplot(1, 2, 2)\n",
    "plt.hist(df_bad_topics['num_topics'], bins=np.arange(0.5, max(df_bad_topics['num_topics'])+1.5, 1), edgecolor='black')\n",
    "plt.title(\"Distribution of num_topics in Dataset 2\")\n",
    "plt.xlabel(\"num_topics\")\n",
    "plt.ylabel(\"Frequency\")\n",
    "\n",
    "plt.tight_layout()\n",
    "plt.show()"
   ]
  },
  {
   "cell_type": "markdown",
   "id": "a1dc457f-504f-4595-99b0-dfc85f28d5ed",
   "metadata": {},
   "source": [
    "## Given that one dataset is normally distributed (Good videogames) and the other is not (Bad videogames), the assumption of normality required for an independent samples t-test is violated. Therefore, instead of a t-test, you should use a Mann-Whitney U test to compare the num_topics between the two datasets. The Mann-Whitney U test is a non-parametric test that doesn’t assume normality."
   ]
  },
  {
   "cell_type": "code",
   "execution_count": 27,
   "id": "edec7b33-cdfc-47cf-b6ac-5ccd0c4a7967",
   "metadata": {},
   "outputs": [
    {
     "name": "stdout",
     "output_type": "stream",
     "text": [
      "Mann-Whitney U Test\n",
      "Statistic: 92.0\n",
      "p-value: 0.0013025268172106592\n",
      "There is a statistically significant difference between the number of topics in good and bad videogames.\n"
     ]
    }
   ],
   "source": [
    "from scipy.stats import mannwhitneyu\n",
    "\n",
    "# Perform the Mann-Whitney U test\n",
    "stat, p_value = mannwhitneyu(df_good_topics['num_topics'], df_bad_topics['num_topics'], alternative='two-sided')\n",
    "\n",
    "# Display results\n",
    "print(\"Mann-Whitney U Test\")\n",
    "print(\"Statistic:\", stat)\n",
    "print(\"p-value:\", p_value)\n",
    "\n",
    "# Interpretation\n",
    "if p_value < 0.05:\n",
    "    print(\"There is a statistically significant difference between the number of topics in good and bad videogames.\")\n",
    "else:\n",
    "    print(\"There is no statistically significant difference between the number of topics in good and bad videogames.\")\n"
   ]
  },
  {
   "cell_type": "code",
   "execution_count": null,
   "id": "5bd01726-8c96-44c1-bb1e-2898dafff933",
   "metadata": {},
   "outputs": [],
   "source": []
  }
 ],
 "metadata": {
  "kernelspec": {
   "display_name": "Python 3 (ipykernel)",
   "language": "python",
   "name": "python3"
  },
  "language_info": {
   "codemirror_mode": {
    "name": "ipython",
    "version": 3
   },
   "file_extension": ".py",
   "mimetype": "text/x-python",
   "name": "python",
   "nbconvert_exporter": "python",
   "pygments_lexer": "ipython3",
   "version": "3.12.7"
  }
 },
 "nbformat": 4,
 "nbformat_minor": 5
}
